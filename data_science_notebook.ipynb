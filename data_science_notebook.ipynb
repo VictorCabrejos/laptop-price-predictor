{
 "cells": [
  {
   "cell_type": "markdown",
   "id": "74721a6b",
   "metadata": {},
   "source": [
    "# Laptop Price Prediction - Data Science Notebook\n",
    "\n",
    "This notebook contains the exploratory data analysis, data preprocessing, and model building for laptop price prediction."
   ]
  },
  {
   "cell_type": "code",
   "execution_count": null,
   "id": "1e603de3",
   "metadata": {},
   "outputs": [],
   "source": [
    "# Import necessary libraries\n",
    "import pandas as pd\n",
    "import numpy as np\n",
    "import matplotlib.pyplot as plt\n",
    "import seaborn as sns\n",
    "import requests"
   ]
  },
  {
   "cell_type": "code",
   "execution_count": null,
   "id": "afb6b8f3",
   "metadata": {},
   "outputs": [],
   "source": [
    "# Load the dataset\n",
    "df = pd.read_csv('laptop_price.csv', encoding='ISO-8859-1')\n",
    "df.head()"
   ]
  },
  {
   "cell_type": "markdown",
   "id": "61fa509c",
   "metadata": {},
   "source": [
    "## Exploratory Data Analysis"
   ]
  },
  {
   "cell_type": "code",
   "execution_count": null,
   "id": "e46f40de",
   "metadata": {},
   "outputs": [],
   "source": [
    "# Distribution of laptop prices\n",
    "sns.histplot(df['Price_euros'])\n",
    "plt.title(\"Distribución de los precios de las laptops\")\n",
    "plt.xlabel(\"Precio (euros)\")\n",
    "plt.ylabel(\"Frecuencia\")\n",
    "plt.show()"
   ]
  },
  {
   "cell_type": "markdown",
   "id": "e008378d",
   "metadata": {},
   "source": [
    "## Data Preprocessing"
   ]
  },
  {
   "cell_type": "code",
   "execution_count": null,
   "id": "f1d525e5",
   "metadata": {},
   "outputs": [],
   "source": [
    "# Clean and transform data\n",
    "df['Weight'] = df['Weight'].str.replace('kg', '').astype(float)\n",
    "df['Ram'] = df['Ram'].str.replace('GB', '').astype(int)\n",
    "df = pd.get_dummies(df, columns=['TypeName'], dtype='int')\n",
    "df[['screen_width', 'screen_height']] = df['ScreenResolution'].str.extract(r'(\\d{3,4})x(\\d{3,4})').astype(int)\n",
    "df['GHz']= df['Cpu'].str.split().str[-1].str.replace('GHz', '').astype(float)\n",
    "\n",
    "# Show transformed data\n",
    "df.head()"
   ]
  },
  {
   "cell_type": "code",
   "execution_count": null,
   "id": "07a6797f",
   "metadata": {},
   "outputs": [],
   "source": [
    "# Create correlation matrix\n",
    "plt.figure(figsize=(17,12))\n",
    "sns.heatmap(df.corr(numeric_only=True), cmap='coolwarm', annot=True)\n",
    "plt.show()"
   ]
  },
  {
   "cell_type": "markdown",
   "id": "64ac7cc0",
   "metadata": {},
   "source": [
    "## Feature Selection and Model Building"
   ]
  },
  {
   "cell_type": "code",
   "execution_count": null,
   "id": "5f98656d",
   "metadata": {},
   "outputs": [],
   "source": [
    "# Select features based on correlation\n",
    "X = df[['Weight', 'TypeName_Gaming', 'TypeName_Notebook', 'screen_width', 'screen_height', 'GHz', 'Ram']]\n",
    "y = df['Price_euros']\n",
    "\n",
    "# Split data into training and testing sets\n",
    "from sklearn.model_selection import train_test_split\n",
    "X_train, X_test, y_train, y_test = train_test_split(X, y, test_size=0.15, random_state=42)"
   ]
  },
  {
   "cell_type": "code",
   "execution_count": null,
   "id": "500d4c36",
   "metadata": {},
   "outputs": [],
   "source": [
    "# Linear Regression Model\n",
    "from sklearn.linear_model import LinearRegression\n",
    "\n",
    "lr = LinearRegression()\n",
    "lr.fit(X_train, y_train)\n",
    "y_pred_lr = lr.predict(X_test)\n",
    "\n",
    "# Evaluate model\n",
    "from sklearn.metrics import mean_absolute_error, r2_score\n",
    "\n",
    "print(\"MAE:\", mean_absolute_error(y_test, y_pred_lr))\n",
    "print(\"R2:\", r2_score(y_test, y_pred_lr))"
   ]
  },
  {
   "cell_type": "code",
   "execution_count": null,
   "id": "aabb270d",
   "metadata": {},
   "outputs": [],
   "source": [
    "# Random Forest Model\n",
    "from sklearn.ensemble import RandomForestRegressor\n",
    "\n",
    "rf = RandomForestRegressor(n_estimators=100, random_state=42)\n",
    "rf.fit(X_train, y_train)\n",
    "y_pred_rf = rf.predict(X_test)\n",
    "\n",
    "print(\"Random Forest MAE:\", mean_absolute_error(y_test, y_pred_rf))\n",
    "print(\"Random Forest R2:\", r2_score(y_test, y_pred_rf))"
   ]
  },
  {
   "cell_type": "markdown",
   "id": "4d7b3a9c",
   "metadata": {},
   "source": [
    "## Model Deployment with Gradio"
   ]
  },
  {
   "cell_type": "code",
   "execution_count": null,
   "id": "21851ce7",
   "metadata": {},
   "outputs": [],
   "source": [
    "# Create prediction function\n",
    "def predecir_precio(weight, typename_gaming, typename_notebook, screen_width, screen_height, ghz, ram):\n",
    "  # Crear los datos de entrada al modelo\n",
    "  entrada = np.array([[weight, typename_gaming, typename_notebook, screen_width, screen_height, ghz, ram]])\n",
    "\n",
    "  # Realizar la predicción\n",
    "  prediccion = lr.predict(entrada)\n",
    "\n",
    "  # Devolver el resultado\n",
    "  return f\"Precio estimado:  € {prediccion[0]:,.2f}\"\n",
    "\n",
    "# Create interface\n",
    "import gradio as gr\n",
    "\n",
    "interfaz = gr.Interface(\n",
    "    fn=predecir_precio,\n",
    "    inputs=[\n",
    "        gr.Number(label=\"Peso (Kg)\"),\n",
    "        gr.Number(label=\"¿Es Gaming? (1 = Sí, 0 = No)\"),\n",
    "        gr.Number(label=\"¿Es Notebook? (1 = Sí, 0 = No)\"),\n",
    "        gr.Number(label=\"Ancho de Pantalla (px)\"),\n",
    "        gr.Number(label=\"Alto de Pantalla (px)\"),\n",
    "        gr.Number(label=\"GHz del procesador\"),\n",
    "        gr.Number(label=\"RAM (GB)\"),\n",
    "    ],\n",
    "    outputs=gr.Textbox(label=\"Precio estimado (€)\")\n",
    ")\n",
    "\n",
    "# Launch interface\n",
    "interfaz.launch()"
   ]
  }
 ],
 "metadata": {
  "language_info": {
   "name": "python"
  }
 },
 "nbformat": 4,
 "nbformat_minor": 5
}
